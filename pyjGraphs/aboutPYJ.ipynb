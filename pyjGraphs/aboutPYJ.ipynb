{
 "cells": [
  {
   "cell_type": "markdown",
   "id": "cad258db-e01f-4d54-b645-e84300dee48f",
   "metadata": {},
   "source": [
    " ## About this folder"
   ]
  },
  {
   "cell_type": "markdown",
   "id": "6728abcc-5e15-42aa-8a60-a62c6f0dc130",
   "metadata": {},
   "source": [
    "- This is the folder for Python Graphs using Jupyter Notebook"
   ]
  },
  {
   "cell_type": "code",
   "execution_count": null,
   "id": "d439876d-200e-4066-9fa6-1022924ed9b1",
   "metadata": {},
   "outputs": [],
   "source": []
  }
 ],
 "metadata": {
  "kernelspec": {
   "display_name": "Python 3 (ipykernel)",
   "language": "python",
   "name": "python3"
  },
  "language_info": {
   "codemirror_mode": {
    "name": "ipython",
    "version": 3
   },
   "file_extension": ".py",
   "mimetype": "text/x-python",
   "name": "python",
   "nbconvert_exporter": "python",
   "pygments_lexer": "ipython3",
   "version": "3.11.5"
  }
 },
 "nbformat": 4,
 "nbformat_minor": 5
}

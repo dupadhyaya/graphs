{
 "cells": [
  {
   "cell_type": "markdown",
   "id": "da63f37b-4e14-45d2-ba1f-147fd537272e",
   "metadata": {
    "tags": []
   },
   "source": [
    "## Marimo\n",
    "- https://docs.marimo.io/getting_started/"
   ]
  },
  {
   "cell_type": "code",
   "execution_count": 10,
   "id": "d6ea750d-4496-499a-ae75-100e542a1e04",
   "metadata": {
    "tags": []
   },
   "outputs": [],
   "source": [
    "#!pip install marimo"
   ]
  },
  {
   "cell_type": "code",
   "execution_count": 11,
   "id": "348d9c69-4bdf-4bcc-aab8-dd01009ce97c",
   "metadata": {
    "tags": []
   },
   "outputs": [],
   "source": [
    "#!marimo tutorial intro"
   ]
  },
  {
   "cell_type": "code",
   "execution_count": 12,
   "id": "adfce40b-7b5e-44b5-99a5-defc76e78569",
   "metadata": {
    "tags": []
   },
   "outputs": [],
   "source": [
    "import marimo as mo"
   ]
  },
  {
   "cell_type": "code",
   "execution_count": 13,
   "id": "e5bb2f5e-fc78-48a4-9753-b6610d06decc",
   "metadata": {
    "tags": []
   },
   "outputs": [
    {
     "data": {
      "text/html": [
       "<marimo-ui-element object-id='47378190-96da-1dac-72ff-5d2a386ecbe0' random-id='47378190-96da-1dac-72ff-5d2a386ecbe0'><marimo-form data-initial-value='null' data-label='null' data-element-id='&quot;6b65a6a4-8b81-48f6-b38a-088ca65ed389&quot;' data-loading='false' data-bordered='true' data-submit-button-label='&quot;Submit&quot;' data-submit-button-disabled='false' data-clear-on-submit='false' data-show-clear-button='false' data-clear-button-label='&quot;Clear&quot;' data-should-validate='false'><marimo-ui-element object-id='6b65a6a4-8b81-48f6-b38a-088ca65ed389' random-id='6b65a6a4-8b81-48f6-b38a-088ca65ed389'><marimo-slider data-initial-value='1' data-label='null' data-start='1' data-stop='9' data-steps='[]' data-debounce='false' data-orientation='&quot;horizontal&quot;' data-show-value='false' data-full-width='false'></marimo-slider></marimo-ui-element></marimo-form></marimo-ui-element>"
      ],
      "text/markdown": [
       "&lt;marimo-form data-initial-value=&#x27;null&#x27; data-label=&#x27;null&#x27; data-element-id=&#x27;&amp;quot;6b65a6a4-8b81-48f6-b38a-088ca65ed389&amp;quot;&#x27; data-loading=&#x27;false&#x27; data-bordered=&#x27;true&#x27; data-submit-button-label=&#x27;&amp;quot;Submit&amp;quot;&#x27; data-submit-button-disabled=&#x27;false&#x27; data-clear-on-submit=&#x27;false&#x27; data-show-clear-button=&#x27;false&#x27; data-clear-button-label=&#x27;&amp;quot;Clear&amp;quot;&#x27; data-should-validate=&#x27;false&#x27;&gt;&lt;marimo-ui-element object-id=&#x27;6b65a6a4-8b81-48f6-b38a-088ca65ed389&#x27; random-id=&#x27;6b65a6a4-8b81-48f6-b38a-088ca65ed389&#x27;&gt;&lt;marimo-slider data-initial-value=&#x27;1&#x27; data-label=&#x27;null&#x27; data-start=&#x27;1&#x27; data-stop=&#x27;9&#x27; data-steps=&#x27;[]&#x27; data-debounce=&#x27;false&#x27; data-orientation=&#x27;&amp;quot;horizontal&amp;quot;&#x27; data-show-value=&#x27;false&#x27; data-full-width=&#x27;false&#x27;&gt;&lt;/marimo-slider&gt;&lt;/marimo-ui-element&gt;&lt;/marimo-form&gt;"
      ],
      "text/plain": [
       "form()"
      ]
     },
     "execution_count": 13,
     "metadata": {},
     "output_type": "execute_result"
    }
   ],
   "source": [
    "form = mo.ui.slider(1,9).form()\n",
    "form"
   ]
  },
  {
   "cell_type": "code",
   "execution_count": 14,
   "id": "8dbeafd3-b86d-4c05-8f67-c86337c48432",
   "metadata": {
    "tags": []
   },
   "outputs": [
    {
     "data": {
      "text/html": [
       "<span class=\"markdown prose dark:prose-invert\"><span class=\"paragraph\">the last submitted values is <strong>None.</strong></span></span>"
      ],
      "text/markdown": [
       "the last submitted values is **None.**"
      ],
      "text/plain": [
       "_md()"
      ]
     },
     "execution_count": 14,
     "metadata": {},
     "output_type": "execute_result"
    }
   ],
   "source": [
    "mo.md(f\" the last submitted values is **{form.value}.**\")"
   ]
  },
  {
   "cell_type": "code",
   "execution_count": 15,
   "id": "2abfdf66-8d60-471b-ad43-f36fec4b0b25",
   "metadata": {
    "tags": []
   },
   "outputs": [
    {
     "data": {
      "text/html": [
       "<span class=\"markdown prose dark:prose-invert\"><span class=\"paragraph\">Hi! What's your name?</span>\n",
       "<span class=\"paragraph\"><marimo-ui-element object-id='c241330b-01a9-e71f-de8a-774bcf36d58b' random-id='c241330b-01a9-e71f-de8a-774bcf36d58b'><marimo-text data-initial-value='&quot;&quot;' data-label='null' data-placeholder='&quot;Your name here&quot;' data-kind='&quot;text&quot;' data-full-width='false' data-disabled='false' data-debounce='true'></marimo-text></marimo-ui-element></span></span>"
      ],
      "text/markdown": [
       "Hi! What's your name?\n",
       "\n",
       "<marimo-ui-element object-id='c241330b-01a9-e71f-de8a-774bcf36d58b' random-id='c241330b-01a9-e71f-de8a-774bcf36d58b'><marimo-text data-initial-value='&quot;&quot;' data-label='null' data-placeholder='&quot;Your name here&quot;' data-kind='&quot;text&quot;' data-full-width='false' data-disabled='false' data-debounce='true'></marimo-text></marimo-ui-element>"
      ],
      "text/plain": [
       "_md()"
      ]
     },
     "execution_count": 15,
     "metadata": {},
     "output_type": "execute_result"
    }
   ],
   "source": [
    "name = mo.ui.text(placeholder=\"Your name here\")\n",
    "mo.md(\n",
    "  f\"\"\"\n",
    "  Hi! What's your name?\n",
    "\n",
    "  {name}\n",
    "  \"\"\"\n",
    ")"
   ]
  },
  {
   "cell_type": "code",
   "execution_count": 16,
   "id": "289e44e6-2657-49ec-aaba-830684bb716c",
   "metadata": {
    "tags": []
   },
   "outputs": [
    {
     "data": {
      "text/html": [
       "<span class=\"markdown prose dark:prose-invert\"><span class=\"paragraph\">Hello, !</span></span>"
      ],
      "text/markdown": [
       "Hello, !"
      ],
      "text/plain": [
       "_md()"
      ]
     },
     "execution_count": 16,
     "metadata": {},
     "output_type": "execute_result"
    }
   ],
   "source": [
    "mo.md(\n",
    "  f\"\"\"\n",
    "  Hello, {name.value}!\n",
    "  \"\"\"\n",
    ")"
   ]
  },
  {
   "cell_type": "code",
   "execution_count": null,
   "id": "c3ae4b1d-4fc9-4515-858c-5de5b5928fb7",
   "metadata": {},
   "outputs": [],
   "source": []
  }
 ],
 "metadata": {
  "kernelspec": {
   "display_name": "Python 3 (ipykernel)",
   "language": "python",
   "name": "python3"
  },
  "language_info": {
   "codemirror_mode": {
    "name": "ipython",
    "version": 3
   },
   "file_extension": ".py",
   "mimetype": "text/x-python",
   "name": "python",
   "nbconvert_exporter": "python",
   "pygments_lexer": "ipython3",
   "version": "3.11.5"
  }
 },
 "nbformat": 4,
 "nbformat_minor": 5
}

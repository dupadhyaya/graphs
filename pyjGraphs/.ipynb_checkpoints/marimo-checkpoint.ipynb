{
 "cells": [
  {
   "cell_type": "markdown",
   "id": "da63f37b-4e14-45d2-ba1f-147fd537272e",
   "metadata": {
    "tags": []
   },
   "source": [
    "## Marimo\n",
    "- https://docs.marimo.io/getting_started/"
   ]
  },
  {
   "cell_type": "code",
   "execution_count": 4,
   "id": "d6ea750d-4496-499a-ae75-100e542a1e04",
   "metadata": {
    "tags": []
   },
   "outputs": [],
   "source": [
    "#!pip install marimo"
   ]
  },
  {
   "cell_type": "code",
   "execution_count": 6,
   "id": "348d9c69-4bdf-4bcc-aab8-dd01009ce97c",
   "metadata": {
    "tags": []
   },
   "outputs": [
    {
     "name": "stdout",
     "output_type": "stream",
     "text": [
      "\n",
      "        \u001b[1;32mEdit intro.py in your browser\u001b[0m 📝\n",
      "\n",
      "        ➜  \u001b[32mURL\u001b[0m: \u001b[1mhttp://localhost:2718\u001b[90m?access_token=4IL8EjGnw2mAE3OVF0llgg\u001b[0m\u001b[0m\n",
      "\n",
      "^C\n",
      "        \u001b[1;32mAre you sure you want to quit?\u001b[0m \u001b[1m(y/n)\u001b[0m: "
     ]
    }
   ],
   "source": [
    "#!marimo tutorial intro"
   ]
  },
  {
   "cell_type": "code",
   "execution_count": null,
   "id": "adfce40b-7b5e-44b5-99a5-defc76e78569",
   "metadata": {},
   "outputs": [],
   "source": []
  }
 ],
 "metadata": {
  "kernelspec": {
   "display_name": "Python 3 (ipykernel)",
   "language": "python",
   "name": "python3"
  },
  "language_info": {
   "codemirror_mode": {
    "name": "ipython",
    "version": 3
   },
   "file_extension": ".py",
   "mimetype": "text/x-python",
   "name": "python",
   "nbconvert_exporter": "python",
   "pygments_lexer": "ipython3",
   "version": "3.11.5"
  }
 },
 "nbformat": 4,
 "nbformat_minor": 5
}
